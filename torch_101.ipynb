{
  "nbformat": 4,
  "nbformat_minor": 0,
  "metadata": {
    "colab": {
      "provenance": [],
      "machine_shape": "hm",
      "gpuType": "L4"
    },
    "kernelspec": {
      "name": "python3",
      "display_name": "Python 3"
    },
    "language_info": {
      "name": "python"
    },
    "accelerator": "GPU"
  },
  "cells": [
    {
      "cell_type": "code",
      "execution_count": 2,
      "metadata": {
        "id": "U3OZv2H6X3dx"
      },
      "outputs": [],
      "source": [
        "# For tips on running notebooks in Google Colab, see\n",
        "# https://pytorch.org/tutorials/beginner/colab\n",
        "%matplotlib inline"
      ]
    },
    {
      "cell_type": "code",
      "source": [
        "import torch\n",
        "from torch import nn\n",
        "from torch.utils.data import DataLoader\n",
        "from torchvision import datasets\n",
        "from torchvision.transforms import ToTensor"
      ],
      "metadata": {
        "id": "FJlhYPNiYQlt"
      },
      "execution_count": 1,
      "outputs": []
    },
    {
      "cell_type": "code",
      "source": [
        "# Download training data from open datasets.\n",
        "training_data = datasets.FashionMNIST(\n",
        "    root=\"data\",\n",
        "    train=True,\n",
        "    download=True,\n",
        "    transform=ToTensor(),\n",
        ")\n",
        "\n",
        "# Download test data from open datasets.\n",
        "test_data = datasets.FashionMNIST(\n",
        "    root=\"data\",\n",
        "    train=False,\n",
        "    download=True,\n",
        "    transform=ToTensor(),\n",
        ")"
      ],
      "metadata": {
        "colab": {
          "base_uri": "https://localhost:8080/"
        },
        "id": "Tqm0oDtzYfrE",
        "outputId": "7070722a-6d8d-4033-8a5e-664b1893abc7"
      },
      "execution_count": 2,
      "outputs": [
        {
          "output_type": "stream",
          "name": "stderr",
          "text": [
            "100%|██████████| 26.4M/26.4M [00:02<00:00, 9.04MB/s]\n",
            "100%|██████████| 29.5k/29.5k [00:00<00:00, 173kB/s]\n",
            "100%|██████████| 4.42M/4.42M [00:01<00:00, 3.21MB/s]\n",
            "100%|██████████| 5.15k/5.15k [00:00<00:00, 16.8MB/s]\n"
          ]
        }
      ]
    },
    {
      "cell_type": "code",
      "source": [
        "batch_size = 64\n",
        "\n",
        "# Create data loaders.\n",
        "train_dataloader = DataLoader(training_data, batch_size=batch_size)\n",
        "test_dataloader = DataLoader(test_data, batch_size=batch_size)\n",
        "\n",
        "for X, y in test_dataloader:\n",
        "    print(f\"Shape of X [N, C, H, W]: {X.shape}\")\n",
        "    print(f\"Shape of y: {y.shape} {y.dtype}\")\n",
        "    break"
      ],
      "metadata": {
        "colab": {
          "base_uri": "https://localhost:8080/"
        },
        "id": "-InK9OD3YqJ6",
        "outputId": "5dcefa88-b958-4ecb-8ac0-d9374a88bf4e"
      },
      "execution_count": 3,
      "outputs": [
        {
          "output_type": "stream",
          "name": "stdout",
          "text": [
            "Shape of X [N, C, H, W]: torch.Size([64, 1, 28, 28])\n",
            "Shape of y: torch.Size([64]) torch.int64\n"
          ]
        }
      ]
    },
    {
      "cell_type": "code",
      "source": [
        "device = torch.accelerator.current_accelerator().type if torch.accelerator.is_available() else \"cpu\"\n",
        "print(f\"Using {device} device\")\n",
        "\n",
        "# Define model\n",
        "class NeuralNetwork(nn.Module):\n",
        "    def __init__(self):\n",
        "        super().__init__()\n",
        "        self.flatten = nn.Flatten()\n",
        "        self.linear_relu_stack = nn.Sequential(\n",
        "            nn.Linear(28*28, 512),\n",
        "            nn.ReLU(),\n",
        "            nn.Linear(512, 512),\n",
        "            nn.ReLU(),\n",
        "            nn.Linear(512, 10)\n",
        "        )\n",
        "\n",
        "    def forward(self, x):\n",
        "        x = self.flatten(x)\n",
        "        logits = self.linear_relu_stack(x)\n",
        "        return logits\n",
        "\n",
        "model = NeuralNetwork().to(device)\n",
        "print(model)"
      ],
      "metadata": {
        "colab": {
          "base_uri": "https://localhost:8080/"
        },
        "id": "XeLdr_AGY43T",
        "outputId": "3da0276a-352d-4bff-b831-32faed110641"
      },
      "execution_count": 4,
      "outputs": [
        {
          "output_type": "stream",
          "name": "stdout",
          "text": [
            "Using cuda device\n",
            "NeuralNetwork(\n",
            "  (flatten): Flatten(start_dim=1, end_dim=-1)\n",
            "  (linear_relu_stack): Sequential(\n",
            "    (0): Linear(in_features=784, out_features=512, bias=True)\n",
            "    (1): ReLU()\n",
            "    (2): Linear(in_features=512, out_features=512, bias=True)\n",
            "    (3): ReLU()\n",
            "    (4): Linear(in_features=512, out_features=10, bias=True)\n",
            "  )\n",
            ")\n"
          ]
        }
      ]
    },
    {
      "cell_type": "code",
      "source": [
        "loss_fn = nn.CrossEntropyLoss()\n",
        "optimizer = torch.optim.SGD(model.parameters(), lr=1e-3)"
      ],
      "metadata": {
        "id": "4NpOnr8FZipx"
      },
      "execution_count": 5,
      "outputs": []
    },
    {
      "cell_type": "code",
      "source": [
        "def train(dataloader, model, loss_fn, optimizer):\n",
        "    size = len(dataloader.dataset)\n",
        "    model.train()\n",
        "    for batch, (X, y) in enumerate(dataloader):\n",
        "        X, y = X.to(device), y.to(device)\n",
        "\n",
        "        # Compute prediction error\n",
        "        pred = model(X)\n",
        "        loss = loss_fn(pred, y)\n",
        "\n",
        "        # Backpropagation\n",
        "        loss.backward()\n",
        "        optimizer.step()\n",
        "        optimizer.zero_grad()\n",
        "\n",
        "        if batch % 100 == 0:\n",
        "            loss, current = loss.item(), (batch + 1) * len(X)\n",
        "            print(f\"loss: {loss:>7f}  [{current:>5d}/{size:>5d}]\")"
      ],
      "metadata": {
        "id": "vH1CVXcQZkKo"
      },
      "execution_count": 6,
      "outputs": []
    },
    {
      "cell_type": "code",
      "source": [
        "def test(dataloader, model, loss_fn):\n",
        "    size = len(dataloader.dataset)\n",
        "    num_batches = len(dataloader)\n",
        "    model.eval()\n",
        "    test_loss, correct = 0, 0\n",
        "    with torch.no_grad():\n",
        "        for X, y in dataloader:\n",
        "            X, y = X.to(device), y.to(device)\n",
        "            pred = model(X)\n",
        "            test_loss += loss_fn(pred, y).item()\n",
        "            correct += (pred.argmax(1) == y).type(torch.float).sum().item()\n",
        "    test_loss /= num_batches\n",
        "    correct /= size\n",
        "    print(f\"Test Error: \\n Accuracy: {(100*correct):>0.1f}%, Avg loss: {test_loss:>8f} \\n\")"
      ],
      "metadata": {
        "id": "KzjQ0oOjZuYA"
      },
      "execution_count": 7,
      "outputs": []
    },
    {
      "cell_type": "code",
      "source": [
        "epochs = 5\n",
        "for t in range(epochs):\n",
        "    print(f\"Epoch {t+1}\\n-------------------------------\")\n",
        "    train(train_dataloader, model, loss_fn, optimizer)\n",
        "    test(test_dataloader, model, loss_fn)\n",
        "print(\"Done!\")"
      ],
      "metadata": {
        "colab": {
          "base_uri": "https://localhost:8080/"
        },
        "id": "L5mfwLJNZxXr",
        "outputId": "ac56aa7b-8cd6-4b55-c521-93701c4f4fdc"
      },
      "execution_count": 8,
      "outputs": [
        {
          "output_type": "stream",
          "name": "stdout",
          "text": [
            "Epoch 1\n",
            "-------------------------------\n",
            "loss: 2.289631  [   64/60000]\n",
            "loss: 2.291039  [ 6464/60000]\n",
            "loss: 2.276095  [12864/60000]\n",
            "loss: 2.271032  [19264/60000]\n",
            "loss: 2.252298  [25664/60000]\n",
            "loss: 2.219087  [32064/60000]\n",
            "loss: 2.223697  [38464/60000]\n",
            "loss: 2.190960  [44864/60000]\n",
            "loss: 2.190778  [51264/60000]\n",
            "loss: 2.161137  [57664/60000]\n",
            "Test Error: \n",
            " Accuracy: 40.4%, Avg loss: 2.158013 \n",
            "\n",
            "Epoch 2\n",
            "-------------------------------\n",
            "loss: 2.160646  [   64/60000]\n",
            "loss: 2.164535  [ 6464/60000]\n",
            "loss: 2.114140  [12864/60000]\n",
            "loss: 2.123305  [19264/60000]\n",
            "loss: 2.076200  [25664/60000]\n",
            "loss: 2.016814  [32064/60000]\n",
            "loss: 2.040911  [38464/60000]\n",
            "loss: 1.966227  [44864/60000]\n",
            "loss: 1.975067  [51264/60000]\n",
            "loss: 1.898664  [57664/60000]\n",
            "Test Error: \n",
            " Accuracy: 56.8%, Avg loss: 1.901029 \n",
            "\n",
            "Epoch 3\n",
            "-------------------------------\n",
            "loss: 1.931888  [   64/60000]\n",
            "loss: 1.910918  [ 6464/60000]\n",
            "loss: 1.802932  [12864/60000]\n",
            "loss: 1.828079  [19264/60000]\n",
            "loss: 1.730851  [25664/60000]\n",
            "loss: 1.683833  [32064/60000]\n",
            "loss: 1.702394  [38464/60000]\n",
            "loss: 1.605769  [44864/60000]\n",
            "loss: 1.631434  [51264/60000]\n",
            "loss: 1.522604  [57664/60000]\n",
            "Test Error: \n",
            " Accuracy: 59.7%, Avg loss: 1.542355 \n",
            "\n",
            "Epoch 4\n",
            "-------------------------------\n",
            "loss: 1.607579  [   64/60000]\n",
            "loss: 1.578632  [ 6464/60000]\n",
            "loss: 1.439368  [12864/60000]\n",
            "loss: 1.490184  [19264/60000]\n",
            "loss: 1.384775  [25664/60000]\n",
            "loss: 1.382519  [32064/60000]\n",
            "loss: 1.394200  [38464/60000]\n",
            "loss: 1.316589  [44864/60000]\n",
            "loss: 1.350285  [51264/60000]\n",
            "loss: 1.252468  [57664/60000]\n",
            "Test Error: \n",
            " Accuracy: 62.6%, Avg loss: 1.276220 \n",
            "\n",
            "Epoch 5\n",
            "-------------------------------\n",
            "loss: 1.349483  [   64/60000]\n",
            "loss: 1.338712  [ 6464/60000]\n",
            "loss: 1.183807  [12864/60000]\n",
            "loss: 1.267456  [19264/60000]\n",
            "loss: 1.151418  [25664/60000]\n",
            "loss: 1.182222  [32064/60000]\n",
            "loss: 1.200296  [38464/60000]\n",
            "loss: 1.133623  [44864/60000]\n",
            "loss: 1.170891  [51264/60000]\n",
            "loss: 1.090379  [57664/60000]\n",
            "Test Error: \n",
            " Accuracy: 64.6%, Avg loss: 1.106921 \n",
            "\n",
            "Done!\n"
          ]
        }
      ]
    },
    {
      "cell_type": "code",
      "source": [
        "torch.save(model.state_dict(), \"model.pth\")\n",
        "print(\"Saved PyTorch Model State to model.pth\")"
      ],
      "metadata": {
        "colab": {
          "base_uri": "https://localhost:8080/"
        },
        "id": "W2oXySw8Z0k3",
        "outputId": "e398694d-44d3-478c-ba92-1df238feb4a7"
      },
      "execution_count": 10,
      "outputs": [
        {
          "output_type": "stream",
          "name": "stdout",
          "text": [
            "Saved PyTorch Model State to model.pth\n"
          ]
        }
      ]
    },
    {
      "cell_type": "code",
      "source": [
        "model = NeuralNetwork().to(device)\n",
        "model.load_state_dict(torch.load(\"model.pth\", weights_only=True))"
      ],
      "metadata": {
        "colab": {
          "base_uri": "https://localhost:8080/"
        },
        "id": "43ZUjLVpZ8kF",
        "outputId": "3b9d07c0-e819-47d8-b8c7-a23e2171760a"
      },
      "execution_count": 11,
      "outputs": [
        {
          "output_type": "execute_result",
          "data": {
            "text/plain": [
              "<All keys matched successfully>"
            ]
          },
          "metadata": {},
          "execution_count": 11
        }
      ]
    },
    {
      "cell_type": "code",
      "source": [
        "classes = [\n",
        "    \"T-shirt/top\",\n",
        "    \"Trouser\",\n",
        "    \"Pullover\",\n",
        "    \"Dress\",\n",
        "    \"Coat\",\n",
        "    \"Sandal\",\n",
        "    \"Shirt\",\n",
        "    \"Sneaker\",\n",
        "    \"Bag\",\n",
        "    \"Ankle boot\",\n",
        "]\n",
        "\n",
        "model.eval()\n",
        "x, y = test_data[0][0], test_data[0][1]\n",
        "with torch.no_grad():\n",
        "    x = x.to(device)\n",
        "    pred = model(x)\n",
        "    predicted, actual = classes[pred[0].argmax(0)], classes[y]\n",
        "    print(f'Predicted: \"{predicted}\", Actual: \"{actual}\"')"
      ],
      "metadata": {
        "colab": {
          "base_uri": "https://localhost:8080/"
        },
        "id": "bwXqx9TsZ-he",
        "outputId": "1e08e8f8-1892-4cb8-93ff-dc7907ecb0e9"
      },
      "execution_count": 12,
      "outputs": [
        {
          "output_type": "stream",
          "name": "stdout",
          "text": [
            "Predicted: \"Ankle boot\", Actual: \"Ankle boot\"\n"
          ]
        }
      ]
    }
  ]
}